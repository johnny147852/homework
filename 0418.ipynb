# -*- coding: utf-8 -*-
"""
Created on Thu Apr 25 15:08:19 2024

@author: johnny
"""
import pandas as pd
import yfinance as yf
list1=["2701","2702","2704","2705","2706","2707","2712","2722","2723","2727"]
for i in list1:
    df= yf.download(i+".TW", "2020-01-01","2023-12-31")
    df.to_csv('yahoo_'+ i + 'TW.csv')
    
url1 ="https://raw.githubusercontent.com/carolkao2258/trade/main/"
list2=['2314','2321','2332','2345','2419','3047','3062','3138','3596','5388']
for i in list2:
    url= url1+"yahoo_" + i + "TW.csv"
    df1= pd.read_csv(url, index_col=0)
    df.to_csv('yahoo_'+ i + 'TW.csv')
    

url2 ="https://raw.githubusercontent.com/jenny172/fin_data/main/"
list3=['2323','2409','3059','3149','3481','3504','3714','4934','6164','6176']
for j in list3:
    url= url2+"yahoo_" + j + "TW.csv"
    df2= pd.read_csv(url, index_col=0)
    df.to_csv('yahoo_'+ j + 'TW.csv')